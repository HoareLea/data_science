{
 "cells": [
  {
   "cell_type": "markdown",
   "id": "1a4dd07e",
   "metadata": {},
   "source": [
    "# Linear Regression"
   ]
  },
  {
   "cell_type": "markdown",
   "id": "4479fc1a",
   "metadata": {},
   "source": [
    "### Core Ideas: \n",
    "- Line fitting\n",
    "- error\n",
    "- assumptions.\n",
    "### Model Use: \n",
    "- Fitting, \n",
    "- interpreting coefficients, \n",
    "- R².\n",
    "### Diagnostics: \n",
    "- Residuals, \n",
    "- multicollinearity, \n",
    "- outliers.\n",
    "### Extensions: \n",
    "- Transformations, \n",
    "- high dimensions, \n",
    "- regularisation.\n",
    "### Practical Tips: \n",
    "- Encoding, \n",
    "- scaling, \n",
    "- prediction intervals.\n",
    "### Pitfalls & Limitations: \n",
    "- When to switch models."
   ]
  },
  {
   "cell_type": "markdown",
   "id": "6ea37c00",
   "metadata": {},
   "source": [
    "In linear regression, \n"
   ]
  }
 ],
 "metadata": {
  "kernelspec": {
   "display_name": ".venv",
   "language": "python",
   "name": "python3"
  },
  "language_info": {
   "codemirror_mode": {
    "name": "ipython",
    "version": 3
   },
   "file_extension": ".py",
   "mimetype": "text/x-python",
   "name": "python",
   "nbconvert_exporter": "python",
   "pygments_lexer": "ipython3",
   "version": "3.13.1"
  }
 },
 "nbformat": 4,
 "nbformat_minor": 5
}
