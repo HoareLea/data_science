{
 "cells": [
  {
   "cell_type": "markdown",
   "id": "1a4dd07e",
   "metadata": {},
   "source": [
    "# Bootstrapping in Hypothesis Tests"
   ]
  },
  {
   "cell_type": "markdown",
   "id": "4479fc1a",
   "metadata": {},
   "source": [
    "Suppose you have two datasets and want to assess whether their means are statistically different, but you're unsure about the underlying distributions — perhaps they appear non-normal or skewed. Traditional parametric tests like the t-test rely on assumptions about normality or equal variance, which may not hold true here. \n",
    "\n",
    "Bootstrapping is a non-parametric resampling technique that can help in this situation. It allows us to approximate the sampling distribution of a statistic (e.g., the mean) without assuming a specific form for the population distribution. We resample from our original dataset with replacement, compute sample means use these sample means to build a confidence interval which tells us whether the means or the original distributions are statistically different. \n",
    "\n",
    "In practice, it works as follows:\n",
    "1. Sample from the two datasets with replacement to get n samples of size m for each dataset. Usually m is the size of the entire    dataset.  \n",
    "2. Compute the means of each of the n samples\n",
    "3. Subtract the means of the samples from one dataset from the means of the samples from the other\n",
    "4. Empiraclly compute the 2.5th and 97.5th percentiles of the bootstrap distribution of mean differences to obtain a 95% confidence interval.\n",
    "5. If this interval does not contain 0 then the means are statistically different at a 5% significance level. \n"
   ]
  },
  {
   "cell_type": "markdown",
   "id": "ea8dabc6",
   "metadata": {},
   "source": [
    "### Example\n",
    "Here we will compare the means accross two non-normal distributions using bootstrapping. "
   ]
  },
  {
   "cell_type": "code",
   "execution_count": 1,
   "id": "f711fbb3",
   "metadata": {},
   "outputs": [
    {
     "name": "stdout",
     "output_type": "stream",
     "text": [
      "95% Confidence Interval: [-7.16947928 -6.95331734]\n",
      "The mean of dataset A is statistically different from the mean of dataset B at a 5% significance level\n"
     ]
    }
   ],
   "source": [
    "import numpy as np\n",
    "\n",
    "# 0: Generate Sample Data (can be non-normal)\n",
    "A = np.random.beta(0.5, 0.5, 1000)\n",
    "B = np.random.uniform(5, 10, 700)\n",
    "\n",
    "# 1: Sample with replacement to get n bootstrap samples\n",
    "n_samples = 10000\n",
    "A_bootstrap = np.random.choice(A, (n_samples, 1000), replace=True)\n",
    "B_bootstrap = np.random.choice(B, (n_samples, 700), replace=True)\n",
    "\n",
    "# 2: Calculate the means of each bootstrap sample\n",
    "A_sample_means = A_bootstrap.mean(axis=1)\n",
    "B_sample_means = B_bootstrap.mean(axis=1)\n",
    "\n",
    "# 3: Compute differences between sample means\n",
    "differences = A_sample_means - B_sample_means\n",
    "\n",
    "# 4: Empiraclly compute 95% confidence interval\n",
    "confidence_interval_95 = np.percentile(differences, [2.5, 97.5])\n",
    "print(f\"95% Confidence Interval: {confidence_interval_95}\")\n",
    "\n",
    "if max(confidence_interval_95) < 0 or min(confidence_interval_95) > 0:\n",
    "    print(\"The mean of dataset A is statistically different from the mean of dataset B at a 5% significance level\")\n",
    "else:\n",
    "    print(\"The mean of dataset A is not statistically different from the mean of dataset B at a 5% significance level\")"
   ]
  }
 ],
 "metadata": {
  "kernelspec": {
   "display_name": "data-science",
   "language": "python",
   "name": "python3"
  },
  "language_info": {
   "codemirror_mode": {
    "name": "ipython",
    "version": 3
   },
   "file_extension": ".py",
   "mimetype": "text/x-python",
   "name": "python",
   "nbconvert_exporter": "python",
   "pygments_lexer": "ipython3",
   "version": "3.13.1"
  }
 },
 "nbformat": 4,
 "nbformat_minor": 5
}
