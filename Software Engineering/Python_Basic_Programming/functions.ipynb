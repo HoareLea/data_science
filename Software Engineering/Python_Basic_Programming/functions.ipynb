{
 "cells": [
  {
   "cell_type": "markdown",
   "id": "32dbc68c",
   "metadata": {},
   "source": [
    "# 02 - Functions"
   ]
  },
  {
   "cell_type": "markdown",
   "id": "846dbf1e",
   "metadata": {},
   "source": [
    "Python functions allows you to store sections of code in such a way so that it can be called later in a repeatable way. They can optionally take arguments which acts as inputs. "
   ]
  },
  {
   "cell_type": "markdown",
   "id": "bb0ba026",
   "metadata": {},
   "source": [
    "### Function Syntax\n",
    "![Python Function Syntax](images/python_function.png)"
   ]
  },
  {
   "cell_type": "markdown",
   "id": "1c72a85b",
   "metadata": {},
   "source": [
    "### Example - Function Without Arguments\n",
    "Functions can be defined without arguments. In this case, the function will always perform an identical action. "
   ]
  },
  {
   "cell_type": "code",
   "execution_count": 20,
   "id": "f3529376",
   "metadata": {},
   "outputs": [
    {
     "name": "stdout",
     "output_type": "stream",
     "text": [
      "### Function without arguments ###\n",
      "Hello, welcome to Python functions!\n",
      "\n"
     ]
    }
   ],
   "source": [
    "def greet():\n",
    "    print(\"Hello, welcome to Python functions!\")\n",
    "\n",
    "\n",
    "# Calling the function\n",
    "print(\"### Function without arguments ###\")\n",
    "greet()\n",
    "print()"
   ]
  },
  {
   "cell_type": "markdown",
   "id": "028b5b3c",
   "metadata": {},
   "source": [
    "### Example - Function With Arguments\n",
    "Arguments can be added to allow the function to operate on specified inputs."
   ]
  },
  {
   "cell_type": "code",
   "execution_count": 21,
   "id": "66d6dfc5",
   "metadata": {},
   "outputs": [
    {
     "name": "stdout",
     "output_type": "stream",
     "text": [
      "### Function with parameters and return value ###\n",
      "Result of adding 3 and 5: 8\n",
      "\n"
     ]
    }
   ],
   "source": [
    "def add_numbers(a, b):\n",
    "    return a + b\n",
    "\n",
    "\n",
    "# Calling the function with arguments\n",
    "print(\"### Function with parameters and return value ###\")\n",
    "result = add_numbers(3, 5)\n",
    "print(f\"Result of adding 3 and 5: {result}\")\n",
    "print()"
   ]
  },
  {
   "cell_type": "markdown",
   "id": "f53979c4",
   "metadata": {},
   "source": [
    "### Example - Setting a Default Argument\n",
    "A default argument may be set in the function definition. If this argument is not specified it will use the default. If this argument is specified it will use the specified value. "
   ]
  },
  {
   "cell_type": "code",
   "execution_count": 22,
   "id": "a8d23adf",
   "metadata": {},
   "outputs": [
    {
     "name": "stdout",
     "output_type": "stream",
     "text": [
      "### Function with default arguments ###\n",
      "Hello, Alice!\n",
      "Hi, Bob!\n",
      "\n"
     ]
    }
   ],
   "source": [
    "def greet_person(name, greeting=\"Hello\"):\n",
    "    print(f\"{greeting}, {name}!\")\n",
    "\n",
    "\n",
    "# Calling the function with different arguments\n",
    "print(\"### Function with default arguments ###\")\n",
    "greet_person(\"Alice\")\n",
    "greet_person(\"Bob\", \"Hi\")\n",
    "print()"
   ]
  },
  {
   "cell_type": "markdown",
   "id": "388fbcb1",
   "metadata": {},
   "source": [
    "### Example - Variable Length Arguments\n",
    "The *args argument allows you to specify that you do not know in advance how many arguments you will have. You can then pass in as many as you want. "
   ]
  },
  {
   "cell_type": "code",
   "execution_count": 23,
   "id": "f89b3fbd",
   "metadata": {},
   "outputs": [
    {
     "name": "stdout",
     "output_type": "stream",
     "text": [
      "### Function with variable-length arguments ###\n",
      "Sum of 1, 2, and 3: 6\n",
      "Sum of 10, 20, 30, 40, and 50: 150\n",
      "\n"
     ]
    }
   ],
   "source": [
    "def calculate_sum(*args):\n",
    "    total = 0\n",
    "    for num in args:\n",
    "        total += num\n",
    "    return total\n",
    "\n",
    "\n",
    "# Calling the function with different number of arguments\n",
    "print(\"### Function with variable-length arguments ###\")\n",
    "result1 = calculate_sum(1, 2, 3)\n",
    "result2 = calculate_sum(10, 20, 30, 40, 50)\n",
    "print(f\"Sum of 1, 2, and 3: {result1}\")\n",
    "print(f\"Sum of 10, 20, 30, 40, and 50: {result2}\")\n",
    "print()"
   ]
  },
  {
   "cell_type": "markdown",
   "id": "36611bf8",
   "metadata": {},
   "source": [
    "### Example - Keyword Arguments\n",
    "The **kwargs argument is used to pass a variable number of keyword arguments to a function. It allows you to handle named arguments that you haven't defined in advance."
   ]
  },
  {
   "cell_type": "code",
   "execution_count": 24,
   "id": "af92daeb",
   "metadata": {},
   "outputs": [
    {
     "name": "stdout",
     "output_type": "stream",
     "text": [
      "### Function with keyword arguments ###\n",
      "city: New York\n",
      "occupation: Engineer\n",
      "city: San Francisco\n",
      "hobby: Reading\n",
      "pets: Cat\n",
      "\n"
     ]
    }
   ],
   "source": [
    "def print_info(**kwargs):\n",
    "    for key, value in kwargs.items():\n",
    "        print(f\"{key}: {value}\")\n",
    "\n",
    "\n",
    "# Calling the function with keyword arguments\n",
    "print(\"### Function with keyword arguments ###\")\n",
    "print_info(city=\"New York\", occupation=\"Engineer\")\n",
    "print_info(city=\"San Francisco\", hobby=\"Reading\", pets=\"Cat\")\n",
    "print()"
   ]
  },
  {
   "cell_type": "markdown",
   "id": "c037e90e",
   "metadata": {},
   "source": [
    "### Example - Docstring\n",
    "The docstring acts like a description for a function. Most IDEs will display the docstring when you highlight the function in code. This can be useful for understand what a function does. The docstring can be viewed with the .__doc__ attribure of the function. "
   ]
  },
  {
   "cell_type": "code",
   "execution_count": 25,
   "id": "a5d3848c",
   "metadata": {},
   "outputs": [
    {
     "name": "stdout",
     "output_type": "stream",
     "text": [
      "### Function with docstring ###\n",
      "\n",
      "    This is a function with a docstring.\n",
      "    It serves as documentation for the function.\n",
      "    \n"
     ]
    }
   ],
   "source": [
    "# Function with docstring\n",
    "def function_with_docstring():\n",
    "    \"\"\"\n",
    "    This is a function with a docstring.\n",
    "    It serves as documentation for the function.\n",
    "    \"\"\"\n",
    "    pass\n",
    "\n",
    "\n",
    "# Accessing docstring using __doc__ attribute\n",
    "print(\"### Function with docstring ###\")\n",
    "print(function_with_docstring.__doc__)"
   ]
  },
  {
   "cell_type": "markdown",
   "id": "f61a5204",
   "metadata": {},
   "source": [
    "### Example - Argument Type Hints\n",
    "Adding type hints to your functions can help to remind you the developer of the intention of the function. Note that these are not strictly enforced at runtime they are just to aid development."
   ]
  },
  {
   "cell_type": "code",
   "execution_count": 26,
   "id": "4b371c86",
   "metadata": {},
   "outputs": [
    {
     "name": "stdout",
     "output_type": "stream",
     "text": [
      "### Function with type hints ###\n",
      "Result of adding 4 and 6 with type hints: 10\n",
      "Result of adding 4.0 and 6.0 with wrong type hints: 10.0\n"
     ]
    }
   ],
   "source": [
    "def add_with_type_hints(a: int, b: int) -> int:\n",
    "    \"\"\"\n",
    "    Adds two integers and returns the result.\n",
    "    \n",
    "    :param a: First integer\n",
    "    :param b: Second integer\n",
    "    :return: Sum of a and b\n",
    "    \"\"\"\n",
    "    return a + b\n",
    "\n",
    "# Calling the function with type hints\n",
    "print(\"### Function with type hints ###\")\n",
    "result_with_type_hints = add_with_type_hints(4, 6)\n",
    "print(f\"Result of adding 4 and 6 with type hints: {result_with_type_hints}\")\n",
    "\n",
    "# Calling the function with wrong type hints to demonstrate that they are not enforced at runtime\n",
    "result_with_wrong_type_hints = add_with_type_hints(4.0, 6.0)\n",
    "print(f\"Result of adding 4.0 and 6.0 with wrong type hints: {result_with_wrong_type_hints}\")"
   ]
  },
  {
   "cell_type": "markdown",
   "id": "52a58f5f",
   "metadata": {},
   "source": [
    "### Example - Return Hints\n",
    "Similar to type hints, return hints can help to make explicit the intention of a function but are not enforced at runtime. "
   ]
  },
  {
   "cell_type": "code",
   "execution_count": 27,
   "id": "d2b7a59a",
   "metadata": {},
   "outputs": [
    {
     "name": "stdout",
     "output_type": "stream",
     "text": [
      "### Function with return hints ###\n",
      "Result of adding 4 and 6 with return hints: 10\n",
      "Result of adding 4.0 and 6.0 with wrong return hints: 10.0\n"
     ]
    }
   ],
   "source": [
    "def add_with_return_hints(a, b) -> int:\n",
    "    \"\"\"\n",
    "    Adds two integers and returns the result.\n",
    "    \n",
    "    :param a: First integer\n",
    "    :param b: Second integer\n",
    "    :return: Sum of a and b\n",
    "    \"\"\"\n",
    "    return a + b\n",
    "\n",
    "# Calling the function with return hints\n",
    "print(\"### Function with return hints ###\")\n",
    "result_with_return_hints = add_with_return_hints(4, 6)\n",
    "print(f\"Result of adding 4 and 6 with return hints: {result_with_return_hints}\")\n",
    "\n",
    "# Calling the function with wrong return hints to demonstrate that they are not enforced at runtime\n",
    "result_with_wrong_return_hints = add_with_return_hints(4.0, 6.0)\n",
    "print(f\"Result of adding 4.0 and 6.0 with wrong return hints: {result_with_wrong_return_hints}\")"
   ]
  },
  {
   "cell_type": "markdown",
   "id": "461620e9",
   "metadata": {},
   "source": [
    "### Example - No Return\n",
    "Functions do not necessarily need to return anything."
   ]
  },
  {
   "cell_type": "code",
   "execution_count": 28,
   "id": "79c67360",
   "metadata": {},
   "outputs": [
    {
     "name": "stdout",
     "output_type": "stream",
     "text": [
      "### Function with no return value ###\n",
      "This function does not return anything.\n",
      "\n"
     ]
    }
   ],
   "source": [
    "def no_return_function():\n",
    "    \"\"\"\n",
    "    This function does not return anything.\n",
    "    It simply prints a message.\n",
    "    \"\"\"\n",
    "    print(\"This function does not return anything.\")\n",
    "\n",
    "# Calling the function that does not return anything\n",
    "print(\"### Function with no return value ###\")\n",
    "no_return_function()\n",
    "print()"
   ]
  },
  {
   "cell_type": "markdown",
   "id": "8ef52f82",
   "metadata": {},
   "source": [
    "### Decorators\n",
    "A decorator is a function in Python that allows you to wrap another function to extend or modify its behavior without changing its actual code. This is useful when you want to add common functionality — like logging, timing, or validation — across multiple functions in a clean and reusable way. Decorators are applied using the @ symbol placed directly above the function definition.\n",
    "\n",
    "One common use-case is measuring how long a function takes to run. Instead of adding timing logic inside every function, we can define a reusable decorator that handles this. The decorator can then be re-used across multiple functions. An example of this is shown below. "
   ]
  },
  {
   "cell_type": "code",
   "execution_count": 29,
   "id": "75ae18e7",
   "metadata": {},
   "outputs": [
    {
     "name": "stdout",
     "output_type": "stream",
     "text": [
      "Running slow function...\n",
      "Done!\n",
      "Function 'slow_function' took 5.00 seconds to run.\n"
     ]
    }
   ],
   "source": [
    "import time\n",
    "\n",
    "def timer_decorator(func):\n",
    "    def wrapper(*args, **kwargs):\n",
    "        start_time = time.time()\n",
    "        result = func(*args, **kwargs)\n",
    "        end_time = time.time()\n",
    "        print(f\"Function '{func.__name__}' took {end_time - start_time:.2f} seconds to run.\")\n",
    "        return result\n",
    "    return wrapper\n",
    "\n",
    "# Apply the decorator to a function\n",
    "@timer_decorator\n",
    "def slow_function():\n",
    "    print(\"Running slow function...\")\n",
    "    time.sleep(5)  # Simulate a slow task\n",
    "    print(\"Done!\")\n",
    "\n",
    "# Call the function\n",
    "slow_function()\n"
   ]
  }
 ],
 "metadata": {
  "kernelspec": {
   "display_name": ".venv",
   "language": "python",
   "name": "python3"
  },
  "language_info": {
   "codemirror_mode": {
    "name": "ipython",
    "version": 3
   },
   "file_extension": ".py",
   "mimetype": "text/x-python",
   "name": "python",
   "nbconvert_exporter": "python",
   "pygments_lexer": "ipython3",
   "version": "3.10.15"
  }
 },
 "nbformat": 4,
 "nbformat_minor": 5
}
