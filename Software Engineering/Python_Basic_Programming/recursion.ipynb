{
 "cells": [
  {
   "cell_type": "markdown",
   "id": "c8f93388",
   "metadata": {},
   "source": [
    "# 04 - Recursion"
   ]
  },
  {
   "cell_type": "markdown",
   "id": "c7a7456a",
   "metadata": {},
   "source": [
    "Recursion operators in python allow you to iterate over a series of objects, performing an action each time. The two main recursion types in python are for loops and while loops though it is also possible for a function to resursively call itself. \n",
    "\n",
    "With a for loop, each element of an iterable is taken in turn and an operation is performed on the element. Once the for loop has reached the end of the iterable, it exits the loop. \n",
    "\n",
    "With a while loop, a condition is set and if the condition is True the loop will start. It executes the operation defined in the loop and, once finished, re-checks to see if the condition. If the condition is still true, the loop restarts, runs the operation again and rechecks the condition and so on. If the condition is false the loop exists. Therefore it is important to always ensure the condition will eventually evaluate to false otherwise it will run forever."
   ]
  },
  {
   "cell_type": "markdown",
   "id": "f7cd3bee",
   "metadata": {},
   "source": [
    "### Example - For Loop over Range"
   ]
  },
  {
   "cell_type": "code",
   "execution_count": 371,
   "id": "dc1f8fe8",
   "metadata": {},
   "outputs": [
    {
     "name": "stdout",
     "output_type": "stream",
     "text": [
      "0\n",
      "1\n",
      "2\n",
      "3\n",
      "4\n",
      "5\n",
      "6\n",
      "7\n",
      "8\n",
      "9\n"
     ]
    }
   ],
   "source": [
    "for i in range(10):\n",
    "    print(i)"
   ]
  },
  {
   "cell_type": "markdown",
   "id": "3221cdbd",
   "metadata": {},
   "source": [
    "### Example - For Loop over List"
   ]
  },
  {
   "cell_type": "code",
   "execution_count": 372,
   "id": "6774de6c",
   "metadata": {},
   "outputs": [
    {
     "name": "stdout",
     "output_type": "stream",
     "text": [
      "Alice\n",
      "Bob\n",
      "Charlie\n"
     ]
    }
   ],
   "source": [
    "for name in ['Alice', 'Bob', 'Charlie']:\n",
    "    print(name)"
   ]
  },
  {
   "cell_type": "markdown",
   "id": "61976970",
   "metadata": {},
   "source": [
    "### Example - For Loop over Set"
   ]
  },
  {
   "cell_type": "code",
   "execution_count": 373,
   "id": "7d6ce197",
   "metadata": {},
   "outputs": [
    {
     "name": "stdout",
     "output_type": "stream",
     "text": [
      "1\n",
      "2\n",
      "3\n"
     ]
    }
   ],
   "source": [
    "for x in set([1, 1, 2, 2, 3, 3]):\n",
    "    print(x)"
   ]
  },
  {
   "cell_type": "markdown",
   "id": "e2e44c64",
   "metadata": {},
   "source": [
    "### Example - For Loop over Dictionary\n",
    "Note that we loop over the key, value pairs accessed via .items() when looping over a dictionary"
   ]
  },
  {
   "cell_type": "code",
   "execution_count": 374,
   "id": "8c31dcd2",
   "metadata": {},
   "outputs": [
    {
     "name": "stdout",
     "output_type": "stream",
     "text": [
      "a: 1\n",
      "b: 2\n",
      "c: 3\n"
     ]
    }
   ],
   "source": [
    "for key, value in {'a': 1, 'b': 2, 'c': 3}.items():\n",
    "    print(f\"{key}: {value}\")\n"
   ]
  },
  {
   "cell_type": "markdown",
   "id": "3643b5b8",
   "metadata": {},
   "source": [
    "### Example - For Loop over Pandas Series"
   ]
  },
  {
   "cell_type": "code",
   "execution_count": 375,
   "id": "5c7d5f2d",
   "metadata": {},
   "outputs": [
    {
     "name": "stdout",
     "output_type": "stream",
     "text": [
      "10\n",
      "20\n",
      "30\n"
     ]
    }
   ],
   "source": [
    "import pandas as pd\n",
    "\n",
    "for i in pd.Series([10, 20, 30]):\n",
    "    print(i)"
   ]
  },
  {
   "cell_type": "markdown",
   "id": "631f1cdf",
   "metadata": {},
   "source": [
    "### Example - For Loop over Pandas Dataframe Rows\n",
    "Note that we loop over the index and row, value pairs accessed via .iterrows() when looping over the rows of a pandas dataframe. The index is an integer representing the row index and the row is a pandas dataframe with one row. Note that if the index is a named series then the index will be the named (rather than numbered) index value. "
   ]
  },
  {
   "cell_type": "code",
   "execution_count": 376,
   "id": "6b288ffd",
   "metadata": {},
   "outputs": [
    {
     "name": "stdout",
     "output_type": "stream",
     "text": [
      "   A  B\n",
      "0  1  3\n",
      "1  2  4\n",
      "--------\n",
      "0 1 3\n",
      "1 2 4\n"
     ]
    }
   ],
   "source": [
    "import pandas as pd\n",
    "\n",
    "df = pd.DataFrame({'A': [1, 2], 'B': [3, 4]})\n",
    "print(df)\n",
    "print(\"--------\") # blank line for readability\n",
    "\n",
    "for index, row in df.iterrows():\n",
    "    print(index, row['A'], row['B'])"
   ]
  },
  {
   "cell_type": "markdown",
   "id": "802f6719",
   "metadata": {},
   "source": [
    "### Example - For Loop with Exit Clause\n",
    "You can manually end the for loop using break. In the example we choose a number between 1 and 5, then 1 and 6, 1 and 7 and so on. Each time we add the number to the list and compute its sum. If the sum is at least 12 we exit the loop. Run the multiple times and notice how the length of the reuslting list can vary.  "
   ]
  },
  {
   "cell_type": "code",
   "execution_count": 377,
   "id": "fcf8d377",
   "metadata": {},
   "outputs": [
    {
     "name": "stdout",
     "output_type": "stream",
     "text": [
      "Random numbers: [3, 5, 7]\n",
      "Sum of random numbers: 15\n",
      "Length of list: 3\n"
     ]
    }
   ],
   "source": [
    "import random\n",
    "\n",
    "my_lsit = []\n",
    "for i in range(5, 10):\n",
    "    random_number = random.randint(1, i)\n",
    "    my_lsit.append(random_number)\n",
    "    if sum(my_lsit) > 12:\n",
    "        break\n",
    "\n",
    "print(\"Random numbers:\", my_lsit)\n",
    "print(\"Sum of random numbers:\", sum(my_lsit))\n",
    "print(\"Length of list:\", len(my_lsit))\n",
    "    "
   ]
  },
  {
   "cell_type": "markdown",
   "id": "3f39eda4",
   "metadata": {},
   "source": [
    "### Example - While Loop with Indexer"
   ]
  },
  {
   "cell_type": "code",
   "execution_count": 378,
   "id": "b0798fc8",
   "metadata": {},
   "outputs": [
    {
     "name": "stdout",
     "output_type": "stream",
     "text": [
      "0\n",
      "1\n",
      "2\n",
      "3\n",
      "4\n",
      "5\n",
      "6\n",
      "7\n",
      "8\n",
      "9\n"
     ]
    }
   ],
   "source": [
    "i = 0  # Initialise indexer\n",
    "while i < 10:\n",
    "    print(i)\n",
    "    i += 1  # Increment index"
   ]
  },
  {
   "cell_type": "markdown",
   "id": "4ecb2125",
   "metadata": {},
   "source": [
    "### Example - While Loop with Condition\n",
    "In the example we choose a random number between 1 and 10 and add it to a list. We keep doing this until the sum of list is at least 100. Notice how when you run this multiple times it produces different lists. "
   ]
  },
  {
   "cell_type": "code",
   "execution_count": 379,
   "id": "5c5e9e1e",
   "metadata": {},
   "outputs": [
    {
     "name": "stdout",
     "output_type": "stream",
     "text": [
      "Generated list: [7, 5, 4, 7, 10, 8, 5, 9, 8, 3, 10, 8, 4, 10, 7]\n",
      "Sum of list: 105\n",
      "Length of list: 15\n"
     ]
    }
   ],
   "source": [
    "import random\n",
    "\n",
    "my_list = []\n",
    "while sum(my_list) < 100:\n",
    "    random_number = random.randint(1, 10)\n",
    "    my_list.append(random_number)\n",
    "\n",
    "print(\"Generated list:\", my_list)\n",
    "print(\"Sum of list:\", sum(my_list))\n",
    "print(\"Length of list:\", len(my_list))"
   ]
  },
  {
   "cell_type": "markdown",
   "id": "1a7ad6cc",
   "metadata": {},
   "source": [
    "### Example - While Loop with Exit Clause\n",
    "You can manually end the while loop using break. In the example we print the current time until a new minute starts, at which point we exit the while loop. "
   ]
  },
  {
   "cell_type": "code",
   "execution_count": 380,
   "id": "942f8963",
   "metadata": {},
   "outputs": [
    {
     "name": "stdout",
     "output_type": "stream",
     "text": [
      "Current time: 15:19:04\n",
      "Current time: 15:19:05\n",
      "Current time: 15:19:06\n",
      "Current time: 15:19:07\n",
      "Current time: 15:19:08\n"
     ]
    },
    {
     "ename": "KeyboardInterrupt",
     "evalue": "",
     "output_type": "error",
     "traceback": [
      "\u001b[0;31m---------------------------------------------------------------------------\u001b[0m",
      "\u001b[0;31mKeyboardInterrupt\u001b[0m                         Traceback (most recent call last)",
      "Cell \u001b[0;32mIn[380], line 4\u001b[0m\n\u001b[1;32m      1\u001b[0m \u001b[38;5;28;01mimport\u001b[39;00m\u001b[38;5;250m \u001b[39m\u001b[38;5;21;01mtime\u001b[39;00m\n\u001b[1;32m      3\u001b[0m \u001b[38;5;28;01mwhile\u001b[39;00m \u001b[38;5;28;01mTrue\u001b[39;00m:\n\u001b[0;32m----> 4\u001b[0m     \u001b[43mtime\u001b[49m\u001b[38;5;241;43m.\u001b[39;49m\u001b[43msleep\u001b[49m\u001b[43m(\u001b[49m\u001b[38;5;241;43m1\u001b[39;49m\u001b[43m)\u001b[49m  \u001b[38;5;66;03m# Sleep for 1 seconds\u001b[39;00m\n\u001b[1;32m      5\u001b[0m     current_time \u001b[38;5;241m=\u001b[39m time\u001b[38;5;241m.\u001b[39mstrftime(\u001b[38;5;124m\"\u001b[39m\u001b[38;5;124m%\u001b[39m\u001b[38;5;124mH:\u001b[39m\u001b[38;5;124m%\u001b[39m\u001b[38;5;124mM:\u001b[39m\u001b[38;5;124m%\u001b[39m\u001b[38;5;124mS\u001b[39m\u001b[38;5;124m\"\u001b[39m)\n\u001b[1;32m      6\u001b[0m     seconds_past_minute \u001b[38;5;241m=\u001b[39m time\u001b[38;5;241m.\u001b[39mlocaltime()\u001b[38;5;241m.\u001b[39mtm_sec\n",
      "\u001b[0;31mKeyboardInterrupt\u001b[0m: "
     ]
    }
   ],
   "source": [
    "import time\n",
    "\n",
    "while True:\n",
    "    time.sleep(1)  # Sleep for 1 seconds\n",
    "    current_time = time.strftime(\"%H:%M:%S\")\n",
    "    seconds_past_minute = time.localtime().tm_sec\n",
    "    print(\"Current time:\", current_time)\n",
    "    if seconds_past_minute == 0:\n",
    "        print(\"New minute started, exiting loop.\")\n",
    "        break"
   ]
  }
 ],
 "metadata": {
  "kernelspec": {
   "display_name": ".venv",
   "language": "python",
   "name": "python3"
  },
  "language_info": {
   "codemirror_mode": {
    "name": "ipython",
    "version": 3
   },
   "file_extension": ".py",
   "mimetype": "text/x-python",
   "name": "python",
   "nbconvert_exporter": "python",
   "pygments_lexer": "ipython3",
   "version": "3.10.15"
  }
 },
 "nbformat": 4,
 "nbformat_minor": 5
}
