{
 "cells": [
  {
   "cell_type": "markdown",
   "id": "3fd23ec7",
   "metadata": {},
   "source": [
    "# Concurrency"
   ]
  },
  {
   "cell_type": "markdown",
   "id": "f92f028a",
   "metadata": {},
   "source": [
    "Python can speed up the execution of code in some instances by leveraging concurrency which is the ability for a program to manage multiple tasks at the same time. It doesn’t necessarily mean that tasks are running simultaneously, but rather that the program can make progress on several tasks by switching between them efficiently. This is especially useful when some tasks are waiting — for example, on input, a network response, or a file operation. Concurrency allows a system to remain responsive and efficient, even when handling many operations."
   ]
  },
  {
   "cell_type": "markdown",
   "id": "048d14bd",
   "metadata": {},
   "source": [
    "### Multiprocessing\n",
    "Multiprocessing is where multiple tasks are split across different computer cores (either CPU or GPU) so that they may be executed simultaneously. This can greatly speed up the execution of code since the program can progress multiple tasks at the same time rather than waiting for each to finish before starting the next. It is sometimes refered to as parallelisation since multiple tasks are being executed in parallel. \n",
    "\n",
    "One use-case where multiprocessing is useful is when iterating over a list and applying a computationally expensive (i.e. slow) function to each element in the list. In the example below, we first loop over a range and apply the computionally expensive function without multiprocessing. So each execution will only begin after the previous execution has finished. Next we apply multiprocessing to allow multiple executions to happen simulataneously. In both instance we time the execution and compare the improvement. Note that you will need to be running this code on a machine with multiple CPU cores in order to see an improvement in execution time. "
   ]
  },
  {
   "cell_type": "code",
   "execution_count": 9,
   "id": "fe783293",
   "metadata": {},
   "outputs": [
    {
     "name": "stdout",
     "output_type": "stream",
     "text": [
      "Number of CPU cores available: 4\n",
      "Non-parallel execution time: 15.01 seconds\n",
      "Parallel execution time: 6.03 seconds\n"
     ]
    }
   ],
   "source": [
    "import time\n",
    "from multiprocessing import Pool, cpu_count\n",
    "\n",
    "numbers = range(5)\n",
    "num_cores = cpu_count()\n",
    "print(\"Number of CPU cores available:\", num_cores)\n",
    "\n",
    "def computationally_expensive_function(a):\n",
    "    time.sleep(3)\n",
    "    return a\n",
    "\n",
    "sequential__start_time = time.time()\n",
    "sequential__results = []\n",
    "for i in numbers:\n",
    "    a = computationally_expensive_function(i)\n",
    "    sequential__results.append(a)\n",
    "sequential__end_time = time.time()\n",
    "\n",
    "parallel_start_time = time.time()\n",
    "# Create a multiprocessing pool with processes set to the number of CPUs\n",
    "with Pool(processes=num_cores) as p:\n",
    "    parallel_results = p.map(computationally_expensive_function, numbers)\n",
    "parallel_end_time = time.time()\n",
    "\n",
    "print(\"Non-parallel execution time:\", round(sequential__end_time - sequential__start_time, 2), \"seconds\")\n",
    "print(\"Parallel execution time:\", round(parallel_end_time - parallel_start_time, 2), \"seconds\")"
   ]
  },
  {
   "cell_type": "markdown",
   "id": "f91cf7ba",
   "metadata": {},
   "source": [
    "### Multithreading\n",
    "Multithreading is where multiple tasks (called threads) are executed within the same process and share the same memory space. Threads are lightweight and can be used to perform multiple operations concurrently, particularly when some operations are slow due to waiting for external resources (such as reading from disk, downloading files, or waiting on user input). Unlike multiprocessing, multithreading does not typically provide a performance boost for CPU-heavy tasks in Python due to the Global Interpreter Lock (GIL), which allows only one thread to execute Python bytecode at a time.\n",
    "\n",
    "Multithreading is particularly useful for I/O-bound tasks — that is, tasks where the program spends much of its time waiting, rather than using the CPU. In the example below, we first simulate a blocking I/O operation (like downloading files) using a loop, where each task runs one after another. Then, we use multithreading to run several of these tasks concurrently, allowing the program to perform other work while waiting on the blocking operations. This results in faster overall execution for I/O-bound workloads.\n",
    "\n",
    "While multiprocessing spreads tasks across multiple CPU cores for true parallelism, multithreading uses concurrency within a single core to make better use of idle time — making it ideal when performance is limited by delays, not computation."
   ]
  },
  {
   "cell_type": "code",
   "execution_count": 11,
   "id": "08511d6d",
   "metadata": {},
   "outputs": [
    {
     "name": "stdout",
     "output_type": "stream",
     "text": [
      "Starting task 0\n",
      "Finished task 0\n",
      "Starting task 1\n",
      "Finished task 1\n",
      "Starting task 2\n",
      "Finished task 2\n",
      "Starting task 3\n",
      "Finished task 3\n",
      "Starting task 4\n",
      "Finished task 4\n",
      "\n",
      "Sequential execution took 10.01 seconds\n",
      "\n",
      "Starting task 0\n",
      "Starting task 1\n",
      "Starting task 2\n",
      "Starting task 3\n",
      "Starting task 4\n",
      "Finished task 0Finished task 1\n",
      "\n",
      "Finished task 4\n",
      "Finished task 2\n",
      "Finished task 3\n",
      "\n",
      "Multithreaded execution took 2.00 seconds\n"
     ]
    }
   ],
   "source": [
    "import time\n",
    "import threading\n",
    "\n",
    "# Simulated I/O-bound task (e.g., downloading a file)\n",
    "def io_bound_task(n):\n",
    "    print(f\"Starting task {n}\")\n",
    "    time.sleep(2)  # Simulate waiting (e.g., for I/O)\n",
    "    print(f\"Finished task {n}\")\n",
    "\n",
    "\n",
    "sequential_start_time = time.time()\n",
    "\n",
    "for i in range(5):\n",
    "    io_bound_task(i)\n",
    "\n",
    "sequential_end_time = time.time()\n",
    "\n",
    "print(f\"\\nSequential execution took {sequential_end_time - sequential_start_time:.2f} seconds\\n\")\n",
    "\n",
    "multi_threaded_start_time = time.time()\n",
    "\n",
    "threads = []\n",
    "for i in range(5):\n",
    "    thread = threading.Thread(target=io_bound_task, args=(i,))\n",
    "    thread.start()\n",
    "    threads.append(thread)\n",
    "\n",
    "# Wait for all threads to complete\n",
    "for thread in threads:\n",
    "    thread.join()\n",
    "\n",
    "multi_threaded_end_time = time.time()\n",
    "\n",
    "print(f\"\\nMultithreaded execution took {multi_threaded_end_time - multi_threaded_start_time:.2f} seconds\")\n"
   ]
  }
 ],
 "metadata": {
  "kernelspec": {
   "display_name": ".venv",
   "language": "python",
   "name": "python3"
  },
  "language_info": {
   "codemirror_mode": {
    "name": "ipython",
    "version": 3
   },
   "file_extension": ".py",
   "mimetype": "text/x-python",
   "name": "python",
   "nbconvert_exporter": "python",
   "pygments_lexer": "ipython3",
   "version": "3.10.15"
  }
 },
 "nbformat": 4,
 "nbformat_minor": 5
}
