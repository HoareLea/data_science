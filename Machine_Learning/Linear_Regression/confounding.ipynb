{
 "cells": [
  {
   "cell_type": "markdown",
   "id": "9c77247b",
   "metadata": {},
   "source": [
    "### Confounding\n",
    "\n",
    "Confounding is the phenomenon whereby coefficients can be estimated in a misleading way due to the absence of highly relevant predictive factors. \n",
    "\n",
    "For example, suppose we were interested in how smoking affects lung capacity in children. If we were to fit a linear model of lung capacity against rate of smoking, we would likely observe that smoking has a positive correlation with lung capacity. This may lead us to the false conclusion that children who smoke more are more likely to have larger lungs. However we have missed off a highly relevant predictor, namely age. Age is both highly correlated with lung capacity and smoking rate. Indeed, older children will tend to have larger lungs and be more likely to smoke. So if we refit our model, this time also including age as a predictor, we will likely see a different result. That is, after accounting for age, smoking will be associated with smaller lung capacities. \n",
    "\n",
    "Confounding leads to biased or misleading estimates of effect sizes and directions, often due to omitted variables, and must be carefully controlled for to avoid false conclusions. It is difficult to directly prevent confounding but the following may help:\n",
    "- Domain knowledge: Identify potential confounders before modeling (e.g., age, gender, socioeconomic status in medical studies).\n",
    "- Study design: Randomised controlled trials are designed to eliminate confounding by randomly assigning treatment.\n",
    "\n",
    "\n"
   ]
  }
 ],
 "metadata": {
  "language_info": {
   "name": "python"
  }
 },
 "nbformat": 4,
 "nbformat_minor": 5
}
