{
 "cells": [
  {
   "cell_type": "markdown",
   "id": "f9191345",
   "metadata": {},
   "source": [
    "### Hypothesis Tests\n",
    "\n",
    "Hypothesis testing is a statistical method used to make decisions about a population based on sample data. The steps are as follows:\n",
    "    \n",
    "1. State the null hypothesis\n",
    "   - This is a statement about the assumed current distribution of the data and acts as a default to be disproved\n",
    "   \n",
    "2. State the alternative hypothesis\n",
    "   - This is a statement that there is an effect or a difference, it's what the test aims to support\n",
    "\n",
    "3. Choose a significance level, alpha\n",
    "   - alpha is the probability of rejecting the null hypothesis when it is actually true. \n",
    "   - Commonly used values are 0.05 or 0.01\n",
    "\n",
    "4. Collect data and calculate the test statistic\n",
    "   - Data is collected from a sample, and a test statistic is calculated\n",
    "   - The test statistic summarises the data in a way that allows for the testing of hypotheses\n",
    "\n",
    "4. Determine the P-value\n",
    "   - The P-value is the probability of obtaining a test statistic at least as extreme as the one observed, assuming the null \n",
    "   hypothesis is true.\n",
    "   - Alternatively, a critical region can be determined, and the decision can be made based on whether the test statistic falls in the \n",
    "   critical region.\n",
    "\n",
    "5. Reject or fail to reject the alternative hypothesis\n",
    "   - If the P-value is less than the chosen significance level alpha, reject the null hypothesis in favor of the alternative hypothesis\n",
    "   - Otherwise, fail to reject the null hypothesis.\n",
    "\n",
    "Hypothesis testing helps determine whether observed data deviates significantly from what is expected under the null hypothesis. In the event we reject the null hypothesis, hypothesis testing does not tell us what the new value of the parameter being tested should be, merely that is varies significantly from the null hypothesis.\n",
    "\n",
    "The example below deomstrates a hypothesis test in which we test whether a coin flip is fair (P(heads) = P(tails) = 0.5). "
   ]
  },
  {
   "cell_type": "code",
   "execution_count": 2,
   "id": "db0e6570",
   "metadata": {},
   "outputs": [
    {
     "name": "stdout",
     "output_type": "stream",
     "text": [
      "Number of flips: 100\n",
      "Number of heads: 80\n",
      "p-value: 1.1159089057251951e-09\n",
      "Reject the null hypothesis: The coin is not fair.\n"
     ]
    }
   ],
   "source": [
    "import scipy.stats as stats\n",
    "\n",
    "# Define the null hypothesis proportion (fair coin)\n",
    "p_null = 0.5\n",
    "\n",
    "# Define the observed data\n",
    "number_of_flips = 100\n",
    "number_of_heads = 80  # Try different values\n",
    "\n",
    "# Perform the binomial test by computing the p value which represents the chance, assuming the null hypothesis is true, that we get data\n",
    "# at least as extreme as the observed data (i.e. more than number_of_heads heads)\n",
    "\n",
    "# The alternative parameter specifies the alternative hypothesis:\n",
    "# 'two-sided' means the alternative hypothesis is that the coin is not fair (p != 0.5)\n",
    "binom_test = stats.binomtest(number_of_heads, number_of_flips, p_null, alternative='two-sided')\n",
    "\n",
    "# Output the result\n",
    "print(f\"Number of flips: {number_of_flips}\")\n",
    "print(f\"Number of heads: {number_of_heads}\")\n",
    "print(f\"p-value: {binom_test.pvalue}\")\n",
    "\n",
    "# Determine the conclusion\n",
    "alpha = 0.05  # significance level\n",
    "if binom_test.pvalue < alpha:\n",
    "    print(\"Reject the null hypothesis: The coin is not fair.\")\n",
    "else:\n",
    "    print(\"Fail to reject the null hypothesis: The coin is fair.\")"
   ]
  }
 ],
 "metadata": {
  "kernelspec": {
   "display_name": "data-science (3.13.1)",
   "language": "python",
   "name": "python3"
  },
  "language_info": {
   "codemirror_mode": {
    "name": "ipython",
    "version": 3
   },
   "file_extension": ".py",
   "mimetype": "text/x-python",
   "name": "python",
   "nbconvert_exporter": "python",
   "pygments_lexer": "ipython3",
   "version": "3.13.1"
  }
 },
 "nbformat": 4,
 "nbformat_minor": 5
}
