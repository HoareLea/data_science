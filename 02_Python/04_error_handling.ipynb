{
 "cells": [
  {
   "cell_type": "markdown",
   "id": "3bb31536",
   "metadata": {},
   "source": [
    "# 04 - Error Handling"
   ]
  },
  {
   "cell_type": "markdown",
   "id": "977bc031",
   "metadata": {},
   "source": [
    "Python provides a variety of different errors (sometimes called exceptions) which allow you to provide specific information about why the code has failed. Try/Except/Else/Finally clauses allow you to attempt operations, handle specific error and run further code are the error occurs. "
   ]
  },
  {
   "cell_type": "markdown",
   "id": "dec16fa8",
   "metadata": {},
   "source": [
    "### Example - Syntax Error"
   ]
  },
  {
   "cell_type": "code",
   "execution_count": 69,
   "id": "cf79577a",
   "metadata": {},
   "outputs": [
    {
     "name": "stdout",
     "output_type": "stream",
     "text": [
      "SyntaxErorr: unterminated string literal (detected at line 1) (<string>, line 1)\n"
     ]
    }
   ],
   "source": [
    "try:\n",
    "    eval('print(\"Hello)')  # missing closing parentheses\n",
    "except SyntaxError as e:\n",
    "    print(f\"SyntaxErorr: {e}\")"
   ]
  },
  {
   "cell_type": "markdown",
   "id": "6676a07d",
   "metadata": {},
   "source": [
    "### Example - Name Error"
   ]
  },
  {
   "cell_type": "code",
   "execution_count": 70,
   "id": "cb910e92",
   "metadata": {},
   "outputs": [
    {
     "name": "stdout",
     "output_type": "stream",
     "text": [
      "NameError: name 'undefined_variable' is not defined\n"
     ]
    }
   ],
   "source": [
    "try:\n",
    "    print(undefined_variable)  # Attempting to use an undefined variable\n",
    "except NameError as e:\n",
    "    print(f\"NameError: {e}\")"
   ]
  },
  {
   "cell_type": "markdown",
   "id": "ff095a52",
   "metadata": {},
   "source": [
    "### Example - Type Error"
   ]
  },
  {
   "cell_type": "code",
   "execution_count": 71,
   "id": "d18bb105",
   "metadata": {},
   "outputs": [
    {
     "name": "stdout",
     "output_type": "stream",
     "text": [
      "TypeError: can only concatenate str (not \"int\") to str\n"
     ]
    }
   ],
   "source": [
    "try:\n",
    "    result = \"Hello\" + 5  # Trying to concatenate a string with an integer\n",
    "except TypeError as e:\n",
    "    print(f\"TypeError: {e}\")"
   ]
  },
  {
   "cell_type": "markdown",
   "id": "d311e665",
   "metadata": {},
   "source": [
    "### Example - Index Error"
   ]
  },
  {
   "cell_type": "code",
   "execution_count": 72,
   "id": "23c29ded",
   "metadata": {},
   "outputs": [
    {
     "name": "stdout",
     "output_type": "stream",
     "text": [
      "IndexError: list index out of range\n"
     ]
    }
   ],
   "source": [
    "try:\n",
    "    my_list = [1, 2, 3]\n",
    "    print(my_list[5])  # Accessing an index that does not exist in the list\n",
    "except IndexError as e:\n",
    "    print(f\"IndexError: {e}\")"
   ]
  },
  {
   "cell_type": "markdown",
   "id": "3c2d2016",
   "metadata": {},
   "source": [
    "### Example - Value Error"
   ]
  },
  {
   "cell_type": "code",
   "execution_count": 73,
   "id": "bc5e704e",
   "metadata": {},
   "outputs": [
    {
     "name": "stdout",
     "output_type": "stream",
     "text": [
      "ValueError: invalid literal for int() with base 10: 'invalid'\n"
     ]
    }
   ],
   "source": [
    "try:\n",
    "    num = int(\"invalid\")  # Converting an invalid string to an integer\n",
    "except ValueError as e:\n",
    "    print(f\"ValueError: {e}\")"
   ]
  },
  {
   "cell_type": "markdown",
   "id": "aa387f4c",
   "metadata": {},
   "source": [
    "### Example - Key Error"
   ]
  },
  {
   "cell_type": "code",
   "execution_count": 74,
   "id": "67b9e955",
   "metadata": {},
   "outputs": [
    {
     "name": "stdout",
     "output_type": "stream",
     "text": [
      "KeyError: 'age'\n"
     ]
    }
   ],
   "source": [
    "try:\n",
    "    my_dict = {\"name\": \"Alice\"}\n",
    "    print(my_dict[\"age\"])  # Accessing a non-existent key in a dictionary\n",
    "except KeyError as e:\n",
    "    print(f\"KeyError: {e}\")"
   ]
  },
  {
   "cell_type": "markdown",
   "id": "6e2b48a1",
   "metadata": {},
   "source": [
    "### Example - File Not Found Error"
   ]
  },
  {
   "cell_type": "code",
   "execution_count": 75,
   "id": "0c38897b",
   "metadata": {},
   "outputs": [
    {
     "name": "stdout",
     "output_type": "stream",
     "text": [
      "FileNotFoundError: [Errno 2] No such file or directory: 'non_existent_file.txt'\n"
     ]
    }
   ],
   "source": [
    "try:\n",
    "    with open(\"non_existent_file.txt\", \"r\") as file:  # Trying to open a file that does not exist\n",
    "        content = file.read()\n",
    "except FileNotFoundError as e:\n",
    "    print(f\"FileNotFoundError: {e}\")"
   ]
  },
  {
   "cell_type": "markdown",
   "id": "b6e8e142",
   "metadata": {},
   "source": [
    "### Example - Divide by Zero Error"
   ]
  },
  {
   "cell_type": "code",
   "execution_count": 76,
   "id": "65107624",
   "metadata": {},
   "outputs": [
    {
     "name": "stdout",
     "output_type": "stream",
     "text": [
      "Error: division by zero\n"
     ]
    }
   ],
   "source": [
    "try:\n",
    "    result = 1 / 0\n",
    "except ZeroDivisionError as e:\n",
    "    print(f\"Error: {e}\")"
   ]
  },
  {
   "cell_type": "markdown",
   "id": "ecfc39ef",
   "metadata": {},
   "source": [
    "### Example - Finally Clause\n",
    "The finally block is always executed, regardless of whether an exception is raised or not"
   ]
  },
  {
   "cell_type": "code",
   "execution_count": 77,
   "id": "985fe33c",
   "metadata": {},
   "outputs": [
    {
     "name": "stdout",
     "output_type": "stream",
     "text": [
      "Error: division by zero\n",
      "Finished handling ZeroDivisionError\n"
     ]
    }
   ],
   "source": [
    "try:\n",
    "    result = 1 / 0\n",
    "except ZeroDivisionError as e:\n",
    "    print(f\"Error: {e}\")\n",
    "finally: \n",
    "    print(\"Finished handling ZeroDivisionError\")"
   ]
  },
  {
   "cell_type": "markdown",
   "id": "0ff5894b",
   "metadata": {},
   "source": [
    "### Example - Else Clause\n",
    "The else clause gets executed if the try is sucessful"
   ]
  },
  {
   "cell_type": "code",
   "execution_count": 78,
   "id": "027c54b7",
   "metadata": {},
   "outputs": [
    {
     "name": "stdout",
     "output_type": "stream",
     "text": [
      "Conversion successful, number: 123\n"
     ]
    }
   ],
   "source": [
    "try:\n",
    "    num = int(\"123\")\n",
    "except ValueError as e:\n",
    "    print(f\"ValueError: {e}\")\n",
    "else:\n",
    "    print(\"Conversion successful, number:\", num)"
   ]
  },
  {
   "cell_type": "markdown",
   "id": "ded9fd49",
   "metadata": {},
   "source": [
    "### Example - Custom Exception\n",
    "Custom exceptions can be defined as a class which inherits from the Exception class. In the example we define a NegativeNumberError which is raised when we try to take the square root of a negative number (which is not possible for real numbers). "
   ]
  },
  {
   "cell_type": "code",
   "execution_count": 79,
   "id": "387cd7c9",
   "metadata": {},
   "outputs": [
    {
     "name": "stdout",
     "output_type": "stream",
     "text": [
      "Custom Error Caught: Cannot take square root of a negative number!\n"
     ]
    }
   ],
   "source": [
    "class NegativeNumberError(Exception):\n",
    "    \"\"\"Raised when a negative number is not allowed.\"\"\"\n",
    "    pass\n",
    "\n",
    "def square_root(x):\n",
    "    if x < 0:\n",
    "        raise NegativeNumberError(\"Cannot take square root of a negative number!\")\n",
    "    return x ** 0.5\n",
    "\n",
    "try:\n",
    "    result = square_root(-9)\n",
    "except NegativeNumberError as e:\n",
    "    print(f\"Custom Error Caught: {e}\")"
   ]
  },
  {
   "cell_type": "markdown",
   "id": "2c439506",
   "metadata": {},
   "source": [
    "### Example - Generic Exception\n",
    "It is possible to work with the generic Exception base class though this is generally not recommended since it is not very descritive. That is, it doesn't give much information about why the code failed. In the example we might have been better defining a custom exception so that we could resuse it in other use-cases in the code. "
   ]
  },
  {
   "cell_type": "code",
   "execution_count": 80,
   "id": "37a1a4c6",
   "metadata": {},
   "outputs": [
    {
     "name": "stdout",
     "output_type": "stream",
     "text": [
      "Caught an error: Age cannot be negative.\n"
     ]
    }
   ],
   "source": [
    "def check_age(age):\n",
    "    if age < 0:\n",
    "        raise Exception(\"Age cannot be negative.\")\n",
    "    print(f\"Age is valid: {age}\")\n",
    "\n",
    "try:\n",
    "    check_age(-5)\n",
    "except Exception as e:\n",
    "    print(f\"Caught an error: {e}\")"
   ]
  }
 ],
 "metadata": {
  "kernelspec": {
   "display_name": ".venv",
   "language": "python",
   "name": "python3"
  },
  "language_info": {
   "codemirror_mode": {
    "name": "ipython",
    "version": 3
   },
   "file_extension": ".py",
   "mimetype": "text/x-python",
   "name": "python",
   "nbconvert_exporter": "python",
   "pygments_lexer": "ipython3",
   "version": "3.10.15"
  }
 },
 "nbformat": 4,
 "nbformat_minor": 5
}
