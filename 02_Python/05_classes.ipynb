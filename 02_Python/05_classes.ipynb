{
 "cells": [
  {
   "cell_type": "markdown",
   "id": "b3829c6d",
   "metadata": {},
   "source": [
    "# 03 - Classes"
   ]
  },
  {
   "cell_type": "markdown",
   "id": "1a592adc",
   "metadata": {},
   "source": [
    "Classes are a python structure which allow you to group data (attributes) and functions (methods) together in a single object. They are useful for providing a logical grouping of information and ways of interacting with that information. Classes are often used to represent abstract entities. For instance, a class could represent a person with attributes for name and date of birth plus a method to calculate their age based on their date of birth. "
   ]
  },
  {
   "cell_type": "markdown",
   "id": "4fe67378",
   "metadata": {},
   "source": [
    "### Class Syntax\n"
   ]
  },
  {
   "cell_type": "markdown",
   "id": "6af159a1",
   "metadata": {},
   "source": [
    "### Example - Blank Class\n",
    "Classes are defined with an `__init__()` method which sets the inital attributes you want to store in each object. The Car class below has nothing set in the `__init__()` and also has no methods so it is a completely blank class. A version of the class, called a class instance is initiated by calling the class and assigning it to a variable "
   ]
  },
  {
   "cell_type": "code",
   "execution_count": 27,
   "id": "357b4ad0",
   "metadata": {},
   "outputs": [],
   "source": [
    "class Car:\n",
    "    def __init__(self):\n",
    "        pass\n",
    "\n",
    "car = Car()"
   ]
  },
  {
   "cell_type": "markdown",
   "id": "5cad6320",
   "metadata": {},
   "source": [
    "### Example - Initialisation with Attributes\n",
    "We extend the previous example by defining atributes to initialise the Car object with. Similarly to functions we can provide default values and type hints. Note that as with functions, the type hints are not enforced at run time and merely act as a prompt to the developer. Note how each attribute is accessed from the class instance using the object.attribute syntax. "
   ]
  },
  {
   "cell_type": "code",
   "execution_count": 28,
   "id": "cbc2aea8",
   "metadata": {},
   "outputs": [
    {
     "name": "stdout",
     "output_type": "stream",
     "text": [
      "Car makes:\n",
      "Ford Toyota 123\n",
      "Car models:\n",
      "Mustang Corolla True\n",
      "Car years:\n",
      "1960 2020 2021\n"
     ]
    }
   ],
   "source": [
    "class Car:\n",
    "    def __init__(self, make: str = \"Ford\", model: str = \"Mustang\", year: int = 1960):\n",
    "        self.make = make\n",
    "        self.model = model\n",
    "        self.year = year\n",
    "\n",
    "car_with_defaults = Car()\n",
    "car_with_custom_values = Car(make=\"Toyota\", model=\"Corolla\", year=2020)\n",
    "car_contradicting_type_hints = Car(make=123, model=True, year=\"2021\")\n",
    "\n",
    "print(\"Car makes:\")\n",
    "print(car_with_defaults.make, car_with_custom_values.make, car_contradicting_type_hints.make)\n",
    "\n",
    "print(\"Car models:\")\n",
    "print(car_with_defaults.model, car_with_custom_values.model, car_contradicting_type_hints.model)\n",
    "\n",
    "print(\"Car years:\")\n",
    "print(car_with_defaults.year, car_with_custom_values.year, car_contradicting_type_hints.year)"
   ]
  },
  {
   "cell_type": "markdown",
   "id": "183099d0",
   "metadata": {},
   "source": [
    "### Example - Initialisation with Attributes & Methods\n",
    "We extend the previous example by defining methods which are effectively functions which act on the class. The first method `get_car_age` takes the current year as an argument and computes the age of the car. Note how within `get_car_age`, attributes of the class can be accessed via self.attribute. Methods such as these are called class methods and must have self as their first argument. Methods which do not reference any attributes or other methods of the class may omit the self argument. Such methods are called static methods and require the @staticmathod decorator. `count_wheels` is an example of a static method since it does not reference self anywhere in its definition. "
   ]
  },
  {
   "cell_type": "code",
   "execution_count": 29,
   "id": "f2aaa3ed",
   "metadata": {},
   "outputs": [
    {
     "name": "stdout",
     "output_type": "stream",
     "text": [
      "Car1 age: 65\n",
      "Car2 age: 5\n",
      "Car1 wheels: 4\n",
      "Car2 wheels: 4\n"
     ]
    }
   ],
   "source": [
    "class Car:\n",
    "    def __init__(self, make: str = \"Ford\", model: str = \"Mustang\", year: int = 1960):\n",
    "        self.make = make\n",
    "        self.model = model\n",
    "        self.year = year\n",
    "\n",
    "    def get_car_age(self, current_year: int) -> int:\n",
    "        return current_year - self.year\n",
    "    \n",
    "    @staticmethod\n",
    "    def count_wheels() -> int:\n",
    "        return 4\n",
    "\n",
    "car1 = Car()\n",
    "car2 = Car(make=\"Toyota\", model=\"Corolla\", year=2020)\n",
    "\n",
    "print(\"Car1 age:\", car1.get_car_age(current_year=2025))\n",
    "print(\"Car2 age:\", car2.get_car_age(current_year=2025))\n",
    "\n",
    "print(\"Car1 wheels:\", car1.count_wheels())\n",
    "print(\"Car2 wheels:\", car2.count_wheels())\n"
   ]
  },
  {
   "cell_type": "markdown",
   "id": "c7c5a088",
   "metadata": {},
   "source": [
    "### Example - Getters, Setters & Deleters\n",
    "Properties allow for a method to be treated like an attribute (i.e. the parenthesis are not needed when calling it). These are\n",
    "called 'getters' and such methods require the @property decorator. Properties are especially useful when you want to use an attribute but want some additional logic, validation or calculation behind the scenes. In the example, `warranty_expiration` is a property so can be accessed as an attribute. But it is being computed on the fly, rather than being stored on the object. Note, in the example we assume each car has a warranty for 5 years. \n",
    "\n",
    "A setter method allows you to add some additional validation or processing before an attribute is set on a class instance. When a new class instance is defined, the logic in the year setter is run to validate whether the passed value is permissable. Note that it is not possible to define a setter without first defining a getter.\n",
    "\n",
    "A deleter method allows you to run additional logic when a class attribute is deleted. In the example, when the year is removed, the missing_data attribute is set to True.  "
   ]
  },
  {
   "cell_type": "code",
   "execution_count": 30,
   "id": "80312e7d",
   "metadata": {},
   "outputs": [
    {
     "name": "stdout",
     "output_type": "stream",
     "text": [
      "Car1 warranty expiration: 1965\n",
      "Car1 year: 1960\n",
      "Error: Year cannot be before the invention of the car\n",
      "Error: Year cannot be in the future\n",
      "Car1 Missing Data: True\n"
     ]
    }
   ],
   "source": [
    "from datetime import datetime\n",
    "\n",
    "class Car:\n",
    "    def __init__(self, make: str = \"Ford\", model: str = \"Mustang\", year: int = 1960):\n",
    "        self.make = make\n",
    "        self.model = model\n",
    "        self.year = year\n",
    "\n",
    "    @property\n",
    "    def warranty_expiration(self):\n",
    "        return self.year + 5\n",
    "\n",
    "    @property\n",
    "    def year(self) -> int:\n",
    "        return self._year\n",
    "\n",
    "    @year.setter\n",
    "    def year(self, value: int):\n",
    "        current_year = datetime.now().year\n",
    "        if value > current_year:\n",
    "            raise ValueError(\"Year cannot be in the future\")\n",
    "        elif value < 1886:\n",
    "            raise ValueError(\"Year cannot be before the invention of the car\")\n",
    "        self._year = value  # store validated value\n",
    "    \n",
    "    @year.deleter\n",
    "    def year(self):\n",
    "        self.missing_data = True  # This will be set when year is deleted\n",
    "\n",
    "car1 = Car()\n",
    "print(\"Car1 warranty expiration:\", car1.warranty_expiration)\n",
    "print(\"Car1 year:\", car1.year)\n",
    "\n",
    "try:\n",
    "    car2 = Car(make=\"Toyota\", model=\"Corolla\", year=1066)  # This will raise an error\n",
    "except ValueError as e:\n",
    "    print(\"Error:\", e)\n",
    "\n",
    "try:\n",
    "    car3 = Car(make=\"Tesla\", model=\"Model Alpha\", year=2050)  # This will raise an error\n",
    "except ValueError as e:\n",
    "    print(\"Error:\", e)\n",
    "\n",
    "del car1.year  # This will delete the year but also the warranty expiration property due to the deleter method\n",
    "print(\"Car1 Missing Data:\", car1.missing_data)\n"
   ]
  },
  {
   "cell_type": "markdown",
   "id": "794ecfb6",
   "metadata": {},
   "source": [
    "### Example - Inheritance\n",
    "Classes can be based on another class, inheriting all attributes and methods but allowing for those attributes and method to be overwritten in the subclass. In the example below, the ElectricCar class inherits from the Car class. Note that inheritance works only in one direction. That is, instances of the ElectricCar class are necessarily members of the Car class, but instances of the Car class are not necessarily members of the ElectricCar class. The super() method, allows you to access attributes and methods of the parent class. In the example, super() is leveraged to initialise the subclass using the parent class' `__init__` and then the subclass is extended by adding the battery_capacity attribute. The functionality of methods from the parent class can be extended or modified by creating a method of the same name in the subclass. When this method is called on an instance of the subclass, the logic defined in the subclass is used rather than the logic from the parent class. Additionally, further methods which only exist in the subclass can be defined (see get_battery_range_km wich doesn't exist in the parent Car class)"
   ]
  },
  {
   "cell_type": "code",
   "execution_count": 31,
   "id": "ad0b0013",
   "metadata": {},
   "outputs": [
    {
     "name": "stdout",
     "output_type": "stream",
     "text": [
      "True\n",
      "False\n",
      "True\n",
      "True\n",
      "Car warranty expiration: 2028\n",
      "Electric Car warranty expiration: 2030\n"
     ]
    }
   ],
   "source": [
    "class ElectricCar(Car):\n",
    "    def __init__(self, make, model, year, battery_capacity_kwh):\n",
    "        super().__init__(make, model, year)  # This sets the make, model and year as in the base Car class\n",
    "        self.battery_capacity_kwh = battery_capacity_kwh  # We can also add additional attributes when we initialise a sub-class\n",
    "\n",
    "    # We can override the functionality of methods in the base class by defining methods of the same name in the subclass\n",
    "    @property\n",
    "    def warranty_expiration(self):\n",
    "        return self.year + 7\n",
    "    \n",
    "    def get_battery_range_km(self):\n",
    "        range_km = self.battery_capacity_kwh * 5\n",
    "        print(f\"{self.battery_capacity} kWh battery provides a range of {range_km} km\")\n",
    "        return range_km\n",
    "    \n",
    "\n",
    "# Initialising objects of the classes\n",
    "car = Car(\"Toyota\", \"Camry\", 2023)\n",
    "electric_car = ElectricCar(\"Tesla\", \"Model S\", 2023, \"100 kWh\")\n",
    "\n",
    "# One-way inheritance\n",
    "print(isinstance(car, Car))                  # Output: True, car is an instance of Car\n",
    "print(isinstance(car, ElectricCar))          # Output: False, car is not an instance of ElectricCar\n",
    "print(isinstance(electric_car, Car))         # Output: True, electric_car is also an instance of Car since it inherits from it\n",
    "print(isinstance(electric_car, ElectricCar)) # Output: True, electric_car is an instance of ElectricCar\n",
    "\n",
    "\n",
    "print(\"Car warranty expiration:\", car.warranty_expiration)\n",
    "print(\"Electric Car warranty expiration:\", electric_car.warranty_expiration)\n"
   ]
  }
 ],
 "metadata": {
  "kernelspec": {
   "display_name": ".venv",
   "language": "python",
   "name": "python3"
  },
  "language_info": {
   "codemirror_mode": {
    "name": "ipython",
    "version": 3
   },
   "file_extension": ".py",
   "mimetype": "text/x-python",
   "name": "python",
   "nbconvert_exporter": "python",
   "pygments_lexer": "ipython3",
   "version": "3.10.15"
  }
 },
 "nbformat": 4,
 "nbformat_minor": 5
}
