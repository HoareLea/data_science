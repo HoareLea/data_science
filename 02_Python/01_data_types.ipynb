{
 "cells": [
  {
   "cell_type": "markdown",
   "id": "1a4dd07e",
   "metadata": {},
   "source": [
    "# 01 - Data Types"
   ]
  },
  {
   "cell_type": "markdown",
   "id": "4479fc1a",
   "metadata": {},
   "source": [
    "Python contains different data types which are ways of representing different information. Some data types allow you to group data into a structure that allows you to combine data together. Python contains the following data types:\n",
    "- Integer\n",
    "- Float\n",
    "- String\n",
    "- List\n",
    "- Tuple\n",
    "- Set\n",
    "- Dictionary\n",
    "- Boolean\n",
    "- None\n",
    "- Range\n",
    "- Complex Number\n",
    "- Bytes/Bytearray"
   ]
  },
  {
   "cell_type": "markdown",
   "id": "ea8dabc6",
   "metadata": {},
   "source": [
    "### Integer\n",
    "Integers are whole numbers. We can perform basic mathematical operations on them"
   ]
  },
  {
   "cell_type": "code",
   "execution_count": 13,
   "id": "f711fbb3",
   "metadata": {},
   "outputs": [
    {
     "name": "stdout",
     "output_type": "stream",
     "text": [
      "Integer operations:\n",
      "2 + 3 = 5\n",
      "2 - 3 = -1\n",
      "2 * 3 = 6\n",
      "2 // 3 = 0\n",
      "2 ** 3 = 8\n",
      "\n"
     ]
    }
   ],
   "source": [
    "a = 2\n",
    "b = 3\n",
    "int_sum = a + b\n",
    "int_diff = a - b\n",
    "int_prod = a * b\n",
    "int_div = a // b  # Integer division\n",
    "int_power = a ** b  # a ^ b\n",
    "\n",
    "print(\"Integer operations:\")\n",
    "print(f\"{a} + {b} = {int_sum}\")\n",
    "print(f\"{a} - {b} = {int_diff}\")\n",
    "print(f\"{a} * {b} = {int_prod}\")\n",
    "print(f\"{a} // {b} = {int_div}\")\n",
    "print(f\"{a} ** {b} = {int_power}\")\n",
    "print()"
   ]
  },
  {
   "cell_type": "markdown",
   "id": "384815ed",
   "metadata": {},
   "source": [
    "### Float\n",
    "Floats are decimal numbers. Again, we can perform basic mathematical operations on them"
   ]
  },
  {
   "cell_type": "code",
   "execution_count": 14,
   "id": "0fdacffd",
   "metadata": {},
   "outputs": [
    {
     "name": "stdout",
     "output_type": "stream",
     "text": [
      "Float operations:\n",
      "5.5 + 2.5 = 8.0\n",
      "5.5 - 2.5 = 3.0\n",
      "5.5 * 2.5 = 13.75\n",
      "5.5 / 2.5 = 2.2\n",
      "\n"
     ]
    }
   ],
   "source": [
    "x = 5.5\n",
    "y = 2.5\n",
    "float_sum = x + y\n",
    "float_diff = x - y\n",
    "float_prod = x * y\n",
    "float_div = x / y\n",
    "\n",
    "print(\"Float operations:\")\n",
    "print(f\"{x} + {y} = {float_sum}\")\n",
    "print(f\"{x} - {y} = {float_diff}\")\n",
    "print(f\"{x} * {y} = {float_prod}\")\n",
    "print(f\"{x} / {y} = {float_div}\")\n",
    "print()"
   ]
  },
  {
   "cell_type": "markdown",
   "id": "08337386",
   "metadata": {},
   "source": [
    "### String\n",
    "Strings are text. We can perform operations like combining them or changing their case. f-strings allow you to insert variables into a string inside {}. "
   ]
  },
  {
   "cell_type": "code",
   "execution_count": 15,
   "id": "c9d00ec7",
   "metadata": {},
   "outputs": [
    {
     "name": "stdout",
     "output_type": "stream",
     "text": [
      "String operations:\n",
      "Concatenation: Hello World\n",
      "Uppercase: HELLO\n",
      "Lowercase: world\n",
      "\n"
     ]
    }
   ],
   "source": [
    "str1 = \"Hello\"\n",
    "str2 = \"World\"\n",
    "str_concat = str1 + \" \" + str2\n",
    "str_upper = str1.upper()\n",
    "str_lower = str2.lower()\n",
    "\n",
    "print(\"String operations:\")\n",
    "print(f\"Concatenation: {str_concat}\")\n",
    "print(f\"Uppercase: {str_upper}\")\n",
    "print(f\"Lowercase: {str_lower}\")\n",
    "print()"
   ]
  },
  {
   "cell_type": "markdown",
   "id": "19421199",
   "metadata": {},
   "source": [
    "### List\n",
    "Lists are ordered collections of items. We can concatenate lists, append items, and find their length. Elements are accessed via their index starting from 0."
   ]
  },
  {
   "cell_type": "code",
   "execution_count": 16,
   "id": "7ba844a7",
   "metadata": {},
   "outputs": [
    {
     "name": "stdout",
     "output_type": "stream",
     "text": [
      "List operations:\n",
      "Concatenation: [1, 2, 3, 4, 5, 6, 7, 8]\n",
      "First element of list1 1\n",
      "Last element of list2 8\n",
      "Append 9 to list1: [1, 2, 3, 4, 9]\n",
      "Length of list1: 5\n",
      "\n"
     ]
    }
   ],
   "source": [
    "list1 = [1, 2, 3, 4]\n",
    "list2 = [5, 6, 7, 8]\n",
    "list_concat = list1 + list2\n",
    "list1.append(9)\n",
    "list_length = len(list1)\n",
    "first_element_list1 = list1[0]\n",
    "last_element_list2 = list2[-1]\n",
    "\n",
    "print(\"List operations:\")\n",
    "print(f\"Concatenation: {list_concat}\")\n",
    "print(f\"First element of list1 {first_element_list1}\")\n",
    "print(f\"Last element of list2 {last_element_list2}\")\n",
    "print(f\"Append 9 to list1: {list1}\")\n",
    "print(f\"Length of list1: {list_length}\")\n",
    "print()"
   ]
  },
  {
   "cell_type": "markdown",
   "id": "40b03bc9",
   "metadata": {},
   "source": [
    "### Tuple\n",
    "Tuples are similar to lists, again we can concatenate tuples and find their length. However lists are immutable meaning once created they cannot be modified."
   ]
  },
  {
   "cell_type": "code",
   "execution_count": 17,
   "id": "75dab63c",
   "metadata": {},
   "outputs": [
    {
     "name": "stdout",
     "output_type": "stream",
     "text": [
      "Error: 'tuple' object does not support item assignment\n",
      "Tuple operations:\n",
      "Concatenation: (1, 2, 3, 4, 5, 6, 7, 8)\n",
      "Length of tuple1: 4\n",
      "\n"
     ]
    }
   ],
   "source": [
    "tuple1 = (1, 2, 3, 4)\n",
    "tuple2 = (5, 6, 7, 8)\n",
    "tuple_concat = tuple1 + tuple2\n",
    "tuple_length = len(tuple1)\n",
    "try:\n",
    "    tuple1[0] = 4  # This will raise a TypeError\n",
    "except TypeError as e:\n",
    "    print(f\"Error: {e}\")\n",
    "    \n",
    "print(\"Tuple operations:\")\n",
    "print(f\"Concatenation: {tuple_concat}\")\n",
    "print(f\"Length of tuple1: {tuple_length}\")\n",
    "print()"
   ]
  },
  {
   "cell_type": "markdown",
   "id": "f2a338cb",
   "metadata": {},
   "source": [
    "### Set\n",
    "Sets are unordered collections of unique items. We can perform union, intersection, and difference operations."
   ]
  },
  {
   "cell_type": "code",
   "execution_count": 18,
   "id": "2e2e793b",
   "metadata": {},
   "outputs": [
    {
     "name": "stdout",
     "output_type": "stream",
     "text": [
      "Set operations:\n",
      "Union: {1, 2, 3, 4, 5, 6}\n",
      "Intersection: {3, 4}\n",
      "Difference (set1 - set2): {1, 2}\n",
      "Difference (set2 - set1): {5, 6}\n",
      "\n"
     ]
    }
   ],
   "source": [
    "set1 = {1, 2, 3, 4}\n",
    "set2 = {3, 4, 5, 6}\n",
    "set_union = set1.union(set2)\n",
    "set_intersection = set1.intersection(set2)\n",
    "set1_difference = set1.difference(set2)\n",
    "set2_difference = set2.difference(set1)\n",
    "\n",
    "print(\"Set operations:\")\n",
    "print(f\"Union: {set_union}\")\n",
    "print(f\"Intersection: {set_intersection}\")\n",
    "print(f\"Difference (set1 - set2): {set1_difference}\")\n",
    "print(f\"Difference (set2 - set1): {set2_difference}\")\n",
    "print()"
   ]
  },
  {
   "cell_type": "markdown",
   "id": "a6363b16",
   "metadata": {},
   "source": [
    "### Dictionary\n",
    "Dictionaries store key-value pairs. We can add new key-value pairs, and retrieve keys and values."
   ]
  },
  {
   "cell_type": "code",
   "execution_count": 19,
   "id": "0e65ef73",
   "metadata": {},
   "outputs": [
    {
     "name": "stdout",
     "output_type": "stream",
     "text": [
      "Dictionary operations:\n",
      "Dictionary 1: {'name': 'Alice', 'age': 25, 'city': 'New York'}\n",
      "Dictionary 2: {'name': 'Bob', 'age': 30}\n",
      "Keys in dict1: ['name', 'age', 'city']\n",
      "Values in dict1: ['Alice', 25, 'New York']\n",
      "\n"
     ]
    }
   ],
   "source": [
    "dict1 = {\"name\": \"Alice\", \"age\": 25}\n",
    "dict2 = {\"name\": \"Bob\", \"age\": 30}\n",
    "dict1[\"city\"] = \"New York\"\n",
    "dict_keys = dict1.keys()\n",
    "dict_values = dict1.values()\n",
    "\n",
    "print(\"Dictionary operations:\")\n",
    "print(f\"Dictionary 1: {dict1}\")\n",
    "print(f\"Dictionary 2: {dict2}\")\n",
    "print(f\"Keys in dict1: {list(dict_keys)}\")\n",
    "print(f\"Values in dict1: {list(dict_values)}\")\n",
    "print()"
   ]
  },
  {
   "cell_type": "markdown",
   "id": "44ce21fc",
   "metadata": {},
   "source": [
    "### Boolean\n",
    "Booleans represent truth values. They can be True or False and we can combine them using logic"
   ]
  },
  {
   "cell_type": "code",
   "execution_count": 20,
   "id": "558f7a94",
   "metadata": {},
   "outputs": [
    {
     "name": "stdout",
     "output_type": "stream",
     "text": [
      "Boolean operations:\n",
      "AND: False\n",
      "OR: True\n",
      "NOT: False\n",
      "\n"
     ]
    }
   ],
   "source": [
    "bool1 = True\n",
    "bool2 = False\n",
    "bool_and = bool1 and bool2\n",
    "bool_or = bool1 or bool2\n",
    "bool_not = not bool1\n",
    "\n",
    "print(\"Boolean operations:\")\n",
    "print(f\"AND: {bool_and}\")\n",
    "print(f\"OR: {bool_or}\")\n",
    "print(f\"NOT: {bool_not}\")\n",
    "print()"
   ]
  },
  {
   "cell_type": "markdown",
   "id": "2556a4d8",
   "metadata": {},
   "source": [
    "### None Type\n",
    "None is a special constant in Python that represents the absence of a value. We can check if a value is None using is None\n"
   ]
  },
  {
   "cell_type": "code",
   "execution_count": 21,
   "id": "67a5bae3",
   "metadata": {},
   "outputs": [
    {
     "name": "stdout",
     "output_type": "stream",
     "text": [
      "None operations:\n",
      "Value of none_var: None\n",
      "Is none_var None?: True\n",
      "\n"
     ]
    }
   ],
   "source": [
    "none_var = None\n",
    "\n",
    "print(\"None operations:\")\n",
    "print(f\"Value of none_var: {none_var}\")\n",
    "print(f\"Is none_var None?: {none_var is None}\")\n",
    "print()"
   ]
  },
  {
   "cell_type": "markdown",
   "id": "a79cbd25",
   "metadata": {},
   "source": [
    "### Range\n",
    "Range represents a sequence of numbers and is immutable."
   ]
  },
  {
   "cell_type": "code",
   "execution_count": 22,
   "id": "bcb3da13",
   "metadata": {},
   "outputs": [
    {
     "name": "stdout",
     "output_type": "stream",
     "text": [
      "Range operations:\n",
      "Range: range(0, 5)\n",
      "Converted to list: [0, 1, 2, 3, 4]\n",
      "\n"
     ]
    }
   ],
   "source": [
    "my_range = range(5)  # Creates a range from 0 to 4\n",
    "range_list = list(my_range)\n",
    "\n",
    "print(\"Range operations:\")\n",
    "print(f\"Range: {my_range}\")\n",
    "print(f\"Converted to list: {range_list}\")\n",
    "print()"
   ]
  },
  {
   "cell_type": "markdown",
   "id": "b49c1660",
   "metadata": {},
   "source": [
    "### Complex numbers\n",
    "Complex numbers have a real and imaginary part. We can perform arithmetic operations on them."
   ]
  },
  {
   "cell_type": "code",
   "execution_count": 23,
   "id": "79ddb81d",
   "metadata": {},
   "outputs": [
    {
     "name": "stdout",
     "output_type": "stream",
     "text": [
      "Complex number operations:\n",
      "Complex number 1: (3+4j)\n",
      "Complex number 2: (1-2j)\n",
      "Sum: (4+2j)\n",
      "Product: (11-2j)\n",
      "\n"
     ]
    }
   ],
   "source": [
    "complex1 = 3 + 4j\n",
    "complex2 = 1 - 2j\n",
    "complex_sum = complex1 + complex2\n",
    "complex_prod = complex1 * complex2\n",
    "\n",
    "print(\"Complex number operations:\")\n",
    "print(f\"Complex number 1: {complex1}\")\n",
    "print(f\"Complex number 2: {complex2}\")\n",
    "print(f\"Sum: {complex_sum}\")\n",
    "print(f\"Product: {complex_prod}\")\n",
    "print()"
   ]
  },
  {
   "cell_type": "markdown",
   "id": "d0daffa8",
   "metadata": {},
   "source": [
    "### Bytes and Bytearray\n",
    "Bytes and Bytearray are used to store binary data. Bytes are immutable, while Bytearray is mutable.\n"
   ]
  },
  {
   "cell_type": "code",
   "execution_count": 24,
   "id": "0d554204",
   "metadata": {},
   "outputs": [
    {
     "name": "stdout",
     "output_type": "stream",
     "text": [
      "Bytes and Bytearray operations:\n",
      "Bytes data: b'hello'\n",
      "Bytearray data: bytearray(b'world')\n",
      "Concatenation: b'helloworld'\n",
      "\n"
     ]
    }
   ],
   "source": [
    "bytes_data = b\"hello\"\n",
    "bytearray_data = bytearray(b\"world\")\n",
    "bytes_concat = bytes_data + bytearray_data\n",
    "\n",
    "print(\"Bytes and Bytearray operations:\")\n",
    "print(f\"Bytes data: {bytes_data}\")\n",
    "print(f\"Bytearray data: {bytearray_data}\")\n",
    "print(f\"Concatenation: {bytes_concat}\")\n",
    "print()"
   ]
  }
 ],
 "metadata": {
  "kernelspec": {
   "display_name": ".venv",
   "language": "python",
   "name": "python3"
  },
  "language_info": {
   "codemirror_mode": {
    "name": "ipython",
    "version": 3
   },
   "file_extension": ".py",
   "mimetype": "text/x-python",
   "name": "python",
   "nbconvert_exporter": "python",
   "pygments_lexer": "ipython3",
   "version": "3.10.15"
  }
 },
 "nbformat": 4,
 "nbformat_minor": 5
}
